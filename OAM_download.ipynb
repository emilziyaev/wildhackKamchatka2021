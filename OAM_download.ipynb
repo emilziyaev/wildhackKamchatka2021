{
  "nbformat": 4,
  "nbformat_minor": 0,
  "metadata": {
    "kernelspec": {
      "display_name": "Python 3",
      "language": "python",
      "name": "python3"
    },
    "language_info": {
      "codemirror_mode": {
        "name": "ipython",
        "version": 3
      },
      "file_extension": ".py",
      "mimetype": "text/x-python",
      "name": "python",
      "nbconvert_exporter": "python",
      "pygments_lexer": "ipython3",
      "version": "3.7.3"
    },
    "colab": {
      "name": "OAM_download.ipynb",
      "provenance": [],
      "include_colab_link": true
    }
  },
  "cells": [
    {
      "cell_type": "markdown",
      "metadata": {
        "id": "view-in-github",
        "colab_type": "text"
      },
      "source": [
        "<a href=\"https://colab.research.google.com/github/emilziyaev/wildhackKamchatka2021/blob/main/OAM_download.ipynb\" target=\"_parent\"><img src=\"https://colab.research.google.com/assets/colab-badge.svg\" alt=\"Open In Colab\"/></a>"
      ]
    },
    {
      "cell_type": "code",
      "metadata": {
        "id": "SBackC6gO-nk"
      },
      "source": [
        "import requests\n",
        "import json"
      ],
      "execution_count": null,
      "outputs": []
    },
    {
      "cell_type": "code",
      "metadata": {
        "id": "OlBKm4LJO-oD"
      },
      "source": [
        "# getting list of downloadable files\n",
        "res = requests.get('https://api.openaerialmap.org/meta?limit=11000')\n",
        "res_p = json.loads(res.content)"
      ],
      "execution_count": null,
      "outputs": []
    },
    {
      "cell_type": "code",
      "metadata": {
        "id": "7mNQk8NWO-oH"
      },
      "source": [
        "# collecting records with pre-defined image resolution\n",
        "results_better_than_50 = []\n",
        "for r in res_p['results']:\n",
        "    if 'resolution_in_meters' in r['properties'].keys():\n",
        "        if (r['properties']['resolution_in_meters'] > 0.15) and (r['properties']['resolution_in_meters'] <= 0.5):\n",
        "            results_better_than_50.append(r)"
      ],
      "execution_count": null,
      "outputs": []
    },
    {
      "cell_type": "code",
      "metadata": {
        "id": "nQ_lZQ42O-oM"
      },
      "source": [
        "# saving just to be sure\n",
        "with open('between15_and_50.json', 'w') as f:\n",
        "    json.dump(results_better_than_50, f)"
      ],
      "execution_count": null,
      "outputs": []
    },
    {
      "cell_type": "code",
      "metadata": {
        "id": "Ysx6EfaHO-oO"
      },
      "source": [
        "import numpy as np"
      ],
      "execution_count": null,
      "outputs": []
    },
    {
      "cell_type": "code",
      "metadata": {
        "id": "sMIppt25O-oU"
      },
      "source": [
        "from tqdm.auto import tqdm\n",
        "import os"
      ],
      "execution_count": null,
      "outputs": []
    },
    {
      "cell_type": "code",
      "metadata": {
        "id": "s77LOjRGO-ob",
        "colab": {
          "referenced_widgets": [
            "315783b8596a4f66b6696df07d4a434a"
          ]
        },
        "outputId": "339d48af-34e0-46fc-bfe4-17df2201965d"
      },
      "source": [
        "for tile in tqdm(results_better_than_50):\n",
        "    url = tile['properties']['url']\n",
        "    r = requests.get(url, allow_redirects=True)\n",
        "    \n",
        "    fname = tile['_id']+'.'+os.path.basename(tile['properties']['url']).split('.')[-1]\n",
        "    with open(f'/mnt/data/machine-learning/oam/{fname}', 'wb') as f:\n",
        "        f.write(r.content)"
      ],
      "execution_count": null,
      "outputs": [
        {
          "data": {
            "application/vnd.jupyter.widget-view+json": {
              "model_id": "315783b8596a4f66b6696df07d4a434a",
              "version_major": 2,
              "version_minor": 0
            },
            "text/plain": [
              "HBox(children=(IntProgress(value=0, max=359), HTML(value='')))"
            ]
          },
          "metadata": {},
          "output_type": "display_data"
        },
        {
          "name": "stdout",
          "output_type": "stream",
          "text": [
            "\n"
          ]
        }
      ]
    }
  ]
}